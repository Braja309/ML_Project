{
 "cells": [
  {
   "cell_type": "code",
   "execution_count": 2,
   "metadata": {},
   "outputs": [],
   "source": [
    "from six.moves import urllib"
   ]
  },
  {
   "cell_type": "code",
   "execution_count": 3,
   "metadata": {},
   "outputs": [],
   "source": [
    "download_url = \"https://raw.githubusercontent.com/ageron/handson-ml/master/datasets/housing/housing.tgz\"\n",
    "tgz_file_path = r\"C:\\Users\\Braja\\Desktop\\Data Science\\ineuron Class\\Projects\\ML_Project\\housing\\artifact\\data_ingestion\\2022-07-16-20-08-55\\tgz_data\\housing.tgz\""
   ]
  },
  {
   "cell_type": "code",
   "execution_count": 4,
   "metadata": {},
   "outputs": [
    {
     "data": {
      "text/plain": [
       "('C:\\\\Users\\\\Braja\\\\Desktop\\\\Data Science\\\\ineuron Class\\\\Projects\\\\ML_Project\\\\housing\\\\artifact\\\\data_ingestion\\\\2022-07-16-20-08-55\\\\tgz_data\\\\housing.tgz',\n",
       " <http.client.HTTPMessage at 0x2e3a2b07a58>)"
      ]
     },
     "execution_count": 4,
     "metadata": {},
     "output_type": "execute_result"
    }
   ],
   "source": [
    "urllib.request.urlretrieve(download_url,tgz_file_path)"
   ]
  },
  {
   "cell_type": "code",
   "execution_count": null,
   "metadata": {},
   "outputs": [
    {
     "ename": "",
     "evalue": "",
     "output_type": "error",
     "traceback": [
      "\u001b[1;31mFailed to start the Kernel. \n",
      "Unable to start Kernel 'venv (Python 3.7.0)' due to connection timeout. \n",
      "View Jupyter <a href='command:jupyter.viewOutput'>log</a> for further details."
     ]
    }
   ],
   "source": []
  }
 ],
 "metadata": {
  "kernelspec": {
   "display_name": "Python 3.7.0 (conda)",
   "language": "python",
   "name": "python3"
  },
  "language_info": {
   "codemirror_mode": {
    "name": "ipython",
    "version": 3
   },
   "file_extension": ".py",
   "mimetype": "text/x-python",
   "name": "python",
   "nbconvert_exporter": "python",
   "pygments_lexer": "ipython3",
   "version": "3.7.0"
  },
  "orig_nbformat": 4,
  "vscode": {
   "interpreter": {
    "hash": "d415c04baf70b0ddd743df6712d4a3c79bfda3799f9599e8e3cef4542bdf02be"
   }
  }
 },
 "nbformat": 4,
 "nbformat_minor": 2
}
